{
 "cells": [
  {
   "cell_type": "code",
   "execution_count": null,
   "id": "1Pb50fmz02vK",
   "metadata": {
    "colab": {
     "base_uri": "https://localhost:8080/"
    },
    "id": "1Pb50fmz02vK",
    "outputId": "7de55902-ee5a-43ac-99cc-f689118df80b"
   },
   "outputs": [
    {
     "name": "stdout",
     "output_type": "stream",
     "text": [
      "Collecting websocket_client\n",
      "  Downloading websocket_client-1.3.2-py3-none-any.whl (54 kB)\n",
      "\u001b[?25l\r",
      "\u001b[K     |██████                          | 10 kB 24.2 MB/s eta 0:00:01\r",
      "\u001b[K     |████████████                    | 20 kB 15.5 MB/s eta 0:00:01\r",
      "\u001b[K     |██████████████████              | 30 kB 10.7 MB/s eta 0:00:01\r",
      "\u001b[K     |████████████████████████▏       | 40 kB 9.2 MB/s eta 0:00:01\r",
      "\u001b[K     |██████████████████████████████▏ | 51 kB 5.2 MB/s eta 0:00:01\r",
      "\u001b[K     |████████████████████████████████| 54 kB 1.7 MB/s \n",
      "\u001b[?25hInstalling collected packages: websocket-client\n",
      "Successfully installed websocket-client-1.3.2\n"
     ]
    }
   ],
   "source": [
    "!pip install websocket_client"
   ]
  },
  {
   "cell_type": "code",
   "execution_count": 23,
   "id": "5fa1bd0e",
   "metadata": {
    "colab": {
     "base_uri": "https://localhost:8080/"
    },
    "id": "5fa1bd0e",
    "outputId": "b776c480-64e2-4099-b268-2e50bf0e451f"
   },
   "outputs": [
    {
     "name": "stdout",
     "output_type": "stream",
     "text": [
      "opened\n",
      "39375.77\n"
     ]
    },
    {
     "data": {
      "text/plain": [
       "False"
      ]
     },
     "execution_count": 23,
     "metadata": {},
     "output_type": "execute_result"
    }
   ],
   "source": [
    "''' let code run for nearly 15-20 minutes to get 30 values of each nearly 30 minutes with ~1 min time gap.\n",
    "    Then stop and run next line which stores values in array\n",
    "'''\n",
    "import websocket, json, datetime\n",
    "\n",
    "def on_open(ws):\n",
    "    print(\"opened\")\n",
    "    auth_data = {\"action\": \"auth\", \"key\": \"AKXSOWSZ8KAC4I4GSSDD\", \"secret\":\"c3p2zDOsSFuKQcPLRbXwbKa2K5ntkCqdO58U2qoQ\"}\n",
    "\n",
    "    ws.send(json.dumps(auth_data))\n",
    "\n",
    "    listen_message = {\"action\":\"subscribe\",\"quotes\":['BTCUSD']}\n",
    "    ws.send(json.dumps(listen_message))\n",
    "count = 0\n",
    "aps=[]\n",
    "def on_message(ws, message):\n",
    "    global count\n",
    "    if count%360==0:\n",
    "      temp = json.loads(message)[0]\n",
    "      aps.append(temp['ap'])\n",
    "      print(temp['ap'])\n",
    "      count=count//360\n",
    "    count+=1\n",
    "def on_close(ws):\n",
    "    print(\"closed connection\")\n",
    "\n",
    "socket = \"wss://stream.data.alpaca.markets/v1beta1/crypto?exchanges=FTXU\"\n",
    "\n",
    "ws = websocket.WebSocketApp(socket, on_open=on_open, on_message=on_message, on_close=on_close)\n",
    "runner_ws=ws.run_forever()\n",
    "# ws.run_forever(ping_interval=6000)\n",
    "runner_ws\n",
    "\n"
   ]
  },
  {
   "cell_type": "code",
   "execution_count": 32,
   "id": "OQ6QnTgKB3jf",
   "metadata": {
    "colab": {
     "base_uri": "https://localhost:8080/"
    },
    "id": "OQ6QnTgKB3jf",
    "outputId": "aa5816a0-ee50-4bd6-caa2-a9bc727baa4a"
   },
   "outputs": [
    {
     "data": {
      "text/plain": [
       "39375.77"
      ]
     },
     "execution_count": 32,
     "metadata": {},
     "output_type": "execute_result"
    }
   ],
   "source": [
    "osum=sum(aps)\n",
    "osum"
   ]
  },
  {
   "cell_type": "code",
   "execution_count": null,
   "id": "JObQSMD_B3mA",
   "metadata": {
    "colab": {
     "base_uri": "https://localhost:8080/"
    },
    "id": "JObQSMD_B3mA",
    "outputId": "28004286-b5ae-49bb-867d-15dfa8d65070"
   },
   "outputs": [
    {
     "data": {
      "text/plain": [
       "39462.40625"
      ]
     },
     "execution_count": 15,
     "metadata": {},
     "output_type": "execute_result"
    }
   ],
   "source": [
    "#   average will be out we compare that with next value then it prints the statement\n",
    "# aver = sum(aps)/len(aps)"
   ]
  },
  {
   "cell_type": "code",
   "execution_count": 25,
   "id": "acj9TXBLB3pA",
   "metadata": {
    "colab": {
     "base_uri": "https://localhost:8080/"
    },
    "id": "acj9TXBLB3pA",
    "outputId": "195a1631-1c90-44b9-e8f6-303a90e6a746"
   },
   "outputs": [
    {
     "name": "stdout",
     "output_type": "stream",
     "text": [
      "opened\n",
      "39378.78\n"
     ]
    },
    {
     "data": {
      "text/plain": [
       "False"
      ]
     },
     "execution_count": 25,
     "metadata": {},
     "output_type": "execute_result"
    }
   ],
   "source": [
    "import websocket, json, datetime\n",
    "\n",
    "def on_open(ws):\n",
    "    print(\"opened\")\n",
    "    auth_data = {\"action\": \"auth\", \"key\": \"AKXSOWSZ8KAC4I4GSSDD\", \"secret\":\"c3p2zDOsSFuKQcPLRbXwbKa2K5ntkCqdO58U2qoQ\"}\n",
    "\n",
    "    ws.send(json.dumps(auth_data))\n",
    "\n",
    "    listen_message = {\"action\":\"subscribe\",\"quotes\":['BTCUSD']}\n",
    "    ws.send(json.dumps(listen_message))\n",
    "count = 0\n",
    "aps_new=[]\n",
    "def on_message(ws, message):\n",
    "    global count\n",
    "    if count%360==0:\n",
    "      temp = json.loads(message)[0]\n",
    "      aps_new.append(temp['ap'])\n",
    "      print(temp['ap'])\n",
    "      count=count//360\n",
    "    count+=1\n",
    "def on_close(ws):\n",
    "    print(\"closed connection\")\n",
    "\n",
    "socket = \"wss://stream.data.alpaca.markets/v1beta1/crypto?exchanges=FTXU\"\n",
    "\n",
    "ws = websocket.WebSocketApp(socket, on_open=on_open, on_message=on_message, on_close=on_close)\n",
    "runner_ws=ws.run_forever()\n",
    "# ws.run_forever(ping_interval=6000)\n",
    "runner_ws\n",
    "\n"
   ]
  },
  {
   "cell_type": "code",
   "execution_count": 33,
   "id": "vzyaCl4zPaOy",
   "metadata": {
    "colab": {
     "base_uri": "https://localhost:8080/"
    },
    "id": "vzyaCl4zPaOy",
    "outputId": "af821741-bb4a-47f5-cfe9-83fdc81f2028"
   },
   "outputs": [
    {
     "data": {
      "text/plain": [
       "39378.78"
      ]
     },
     "execution_count": 33,
     "metadata": {},
     "output_type": "execute_result"
    }
   ],
   "source": [
    "nsum=sum(aps_new)\n",
    "nsum"
   ]
  },
  {
   "cell_type": "code",
   "execution_count": 28,
   "id": "XQdAcrfOiFU1",
   "metadata": {
    "colab": {
     "base_uri": "https://localhost:8080/"
    },
    "id": "XQdAcrfOiFU1",
    "outputId": "c3618b48-531e-462e-de0b-5a6700be3b98"
   },
   "outputs": [
    {
     "name": "stdout",
     "output_type": "stream",
     "text": [
      "<class 'list'>\n"
     ]
    }
   ],
   "source": [
    "print(type(aps_new))"
   ]
  },
  {
   "cell_type": "code",
   "execution_count": 38,
   "id": "jmSxeFc8hnxH",
   "metadata": {
    "colab": {
     "base_uri": "https://localhost:8080/"
    },
    "id": "jmSxeFc8hnxH",
    "outputId": "cf28d59d-a5a0-45e0-efc3-afa780f2045d"
   },
   "outputs": [
    {
     "data": {
      "text/plain": [
       "0.007644294956014923"
      ]
     },
     "execution_count": 38,
     "metadata": {},
     "output_type": "execute_result"
    }
   ],
   "source": [
    "returns = ((nsum-osum)/osum)*100\n",
    "returns"
   ]
  },
  {
   "cell_type": "code",
   "execution_count": null,
   "id": "GVwKEbpjh3au",
   "metadata": {
    "id": "GVwKEbpjh3au"
   },
   "outputs": [],
   "source": []
  },
  {
   "cell_type": "code",
   "execution_count": null,
   "id": "FnvD-e_NPaQY",
   "metadata": {
    "colab": {
     "base_uri": "https://localhost:8080/"
    },
    "id": "FnvD-e_NPaQY",
    "outputId": "5bdf3135-41a3-438f-d71b-2de1ca5e91ea"
   },
   "outputs": [
    {
     "name": "stdout",
     "output_type": "stream",
     "text": [
      "Value is decreased!!!\n"
     ]
    }
   ],
   "source": [
    "if aps < aps_new:\n",
    "  print(\"Value is increased!!!\")\n",
    "else:\n",
    "  print(\"Value is decreased!!!\")"
   ]
  },
  {
   "cell_type": "markdown",
   "id": "cfgr4JSLc_TA",
   "metadata": {
    "id": "cfgr4JSLc_TA"
   },
   "source": [
    "\n"
   ]
  },
  {
   "cell_type": "code",
   "execution_count": null,
   "id": "0k7BtMv1dAok",
   "metadata": {
    "id": "0k7BtMv1dAok"
   },
   "outputs": [],
   "source": []
  }
 ],
 "metadata": {
  "colab": {
   "collapsed_sections": [],
   "name": "Alpaca live stream.ipynb",
   "provenance": []
  },
  "kernelspec": {
   "display_name": "Python 3 (ipykernel)",
   "language": "python",
   "name": "python3"
  },
  "language_info": {
   "codemirror_mode": {
    "name": "ipython",
    "version": 3
   },
   "file_extension": ".py",
   "mimetype": "text/x-python",
   "name": "python",
   "nbconvert_exporter": "python",
   "pygments_lexer": "ipython3",
   "version": "3.9.1"
  }
 },
 "nbformat": 4,
 "nbformat_minor": 5
}
