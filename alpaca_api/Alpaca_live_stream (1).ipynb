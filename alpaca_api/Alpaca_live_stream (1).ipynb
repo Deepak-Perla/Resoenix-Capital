{
  "cells": [
    {
      "cell_type": "code",
      "execution_count": 2,
      "metadata": {
        "colab": {
          "base_uri": "https://localhost:8080/"
        },
        "id": "1Pb50fmz02vK",
        "outputId": "7de55902-ee5a-43ac-99cc-f689118df80b"
      },
      "outputs": [
        {
          "output_type": "stream",
          "name": "stdout",
          "text": [
            "Collecting websocket_client\n",
            "  Downloading websocket_client-1.3.2-py3-none-any.whl (54 kB)\n",
            "\u001b[?25l\r\u001b[K     |██████                          | 10 kB 24.2 MB/s eta 0:00:01\r\u001b[K     |████████████                    | 20 kB 15.5 MB/s eta 0:00:01\r\u001b[K     |██████████████████              | 30 kB 10.7 MB/s eta 0:00:01\r\u001b[K     |████████████████████████▏       | 40 kB 9.2 MB/s eta 0:00:01\r\u001b[K     |██████████████████████████████▏ | 51 kB 5.2 MB/s eta 0:00:01\r\u001b[K     |████████████████████████████████| 54 kB 1.7 MB/s \n",
            "\u001b[?25hInstalling collected packages: websocket-client\n",
            "Successfully installed websocket-client-1.3.2\n"
          ]
        }
      ],
      "source": [
        "!pip install websocket_client"
      ],
      "id": "1Pb50fmz02vK"
    },
    {
      "cell_type": "code",
      "execution_count": 13,
      "metadata": {
        "colab": {
          "base_uri": "https://localhost:8080/"
        },
        "id": "5fa1bd0e",
        "outputId": "9fc4a5be-8270-404e-b4be-f62a1aae24e7"
      },
      "outputs": [
        {
          "output_type": "stream",
          "name": "stdout",
          "text": [
            "opened\n",
            "39463.03\n",
            "39445.98\n",
            "39466.04\n",
            "39468.05\n",
            "39468.05\n",
            "39466.04\n",
            "39454.01\n",
            "39468.05\n"
          ]
        },
        {
          "output_type": "execute_result",
          "data": {
            "text/plain": [
              "False"
            ]
          },
          "metadata": {},
          "execution_count": 13
        }
      ],
      "source": [
        "import websocket, json, datetime\n",
        "\n",
        "def on_open(ws):\n",
        "    print(\"opened\")\n",
        "    auth_data = {\"action\": \"auth\", \"key\": \"AKXSOWSZ8KAC4I4GSSDD\", \"secret\":\"c3p2zDOsSFuKQcPLRbXwbKa2K5ntkCqdO58U2qoQ\"}\n",
        "\n",
        "    ws.send(json.dumps(auth_data))\n",
        "\n",
        "    listen_message = {\"action\":\"subscribe\",\"quotes\":['BTCUSD']}\n",
        "    ws.send(json.dumps(listen_message))\n",
        "count = 0\n",
        "aps=[]\n",
        "def on_message(ws, message):\n",
        "    global count\n",
        "    if count%720==0:\n",
        "      temp = json.loads(message)[0]\n",
        "      aps.append(temp['ap'])\n",
        "      print(temp['ap'])\n",
        "      count=count//720\n",
        "    count+=1\n",
        "def on_close(ws):\n",
        "    print(\"closed connection\")\n",
        "\n",
        "socket = \"wss://stream.data.alpaca.markets/v1beta1/crypto?exchanges=FTXU\"\n",
        "\n",
        "ws = websocket.WebSocketApp(socket, on_open=on_open, on_message=on_message, on_close=on_close)\n",
        "runner_ws=ws.run_forever()\n",
        "# ws.run_forever(ping_interval=6000)\n",
        "runner_ws\n",
        "\n"
      ],
      "id": "5fa1bd0e"
    },
    {
      "cell_type": "code",
      "source": [
        "aps"
      ],
      "metadata": {
        "colab": {
          "base_uri": "https://localhost:8080/"
        },
        "id": "OQ6QnTgKB3jf",
        "outputId": "75115d2d-136e-4310-c3d7-41ea05dd5b53"
      },
      "id": "OQ6QnTgKB3jf",
      "execution_count": 14,
      "outputs": [
        {
          "output_type": "execute_result",
          "data": {
            "text/plain": [
              "[39463.03,\n",
              " 39445.98,\n",
              " 39466.04,\n",
              " 39468.05,\n",
              " 39468.05,\n",
              " 39466.04,\n",
              " 39454.01,\n",
              " 39468.05]"
            ]
          },
          "metadata": {},
          "execution_count": 14
        }
      ]
    },
    {
      "cell_type": "code",
      "source": [
        "aver = sum(aps)/len(aps)"
      ],
      "metadata": {
        "colab": {
          "base_uri": "https://localhost:8080/"
        },
        "id": "JObQSMD_B3mA",
        "outputId": "28004286-b5ae-49bb-867d-15dfa8d65070"
      },
      "id": "JObQSMD_B3mA",
      "execution_count": 15,
      "outputs": [
        {
          "output_type": "execute_result",
          "data": {
            "text/plain": [
              "39462.40625"
            ]
          },
          "metadata": {},
          "execution_count": 15
        }
      ]
    },
    {
      "cell_type": "code",
      "source": [
        "import websocket, json, datetime\n",
        "\n",
        "def on_open(ws):\n",
        "    print(\"opened\")\n",
        "    auth_data = {\"action\": \"auth\", \"key\": \"AKXSOWSZ8KAC4I4GSSDD\", \"secret\":\"c3p2zDOsSFuKQcPLRbXwbKa2K5ntkCqdO58U2qoQ\"}\n",
        "\n",
        "    ws.send(json.dumps(auth_data))\n",
        "\n",
        "    listen_message = {\"action\":\"subscribe\",\"quotes\":['BTCUSD']}\n",
        "    ws.send(json.dumps(listen_message))\n",
        "count = 0\n",
        "aps_new=[]\n",
        "def on_message(ws, message):\n",
        "    global count\n",
        "    if count%720==0:\n",
        "      temp = json.loads(message)[0]\n",
        "      aps_new.append(temp['ap'])\n",
        "      print(temp['ap'])\n",
        "      count=count//720\n",
        "    count+=1\n",
        "def on_close(ws):\n",
        "    print(\"closed connection\")\n",
        "\n",
        "socket = \"wss://stream.data.alpaca.markets/v1beta1/crypto?exchanges=FTXU\"\n",
        "\n",
        "ws = websocket.WebSocketApp(socket, on_open=on_open, on_message=on_message, on_close=on_close)\n",
        "runner_ws=ws.run_forever()\n",
        "# ws.run_forever(ping_interval=6000)\n",
        "runner_ws\n",
        "\n"
      ],
      "metadata": {
        "colab": {
          "base_uri": "https://localhost:8080/"
        },
        "id": "acj9TXBLB3pA",
        "outputId": "ffb00546-ddaf-4715-8c3b-dd96f7d83d9b"
      },
      "id": "acj9TXBLB3pA",
      "execution_count": 16,
      "outputs": [
        {
          "output_type": "stream",
          "name": "stdout",
          "text": [
            "opened\n",
            "39460.03\n"
          ]
        },
        {
          "output_type": "execute_result",
          "data": {
            "text/plain": [
              "False"
            ]
          },
          "metadata": {},
          "execution_count": 16
        }
      ]
    },
    {
      "cell_type": "code",
      "source": [
        "aps_new"
      ],
      "metadata": {
        "colab": {
          "base_uri": "https://localhost:8080/"
        },
        "id": "vzyaCl4zPaOy",
        "outputId": "0eb7e43f-f9d7-4ee4-c773-fce31c992a35"
      },
      "id": "vzyaCl4zPaOy",
      "execution_count": 17,
      "outputs": [
        {
          "output_type": "execute_result",
          "data": {
            "text/plain": [
              "[39460.03]"
            ]
          },
          "metadata": {},
          "execution_count": 17
        }
      ]
    },
    {
      "cell_type": "code",
      "source": [
        "if aps < aps_new:\n",
        "  print(\"Value is increased!!!\")\n",
        "else:\n",
        "  print(\"Value is decreased!!!\")"
      ],
      "metadata": {
        "colab": {
          "base_uri": "https://localhost:8080/"
        },
        "id": "FnvD-e_NPaQY",
        "outputId": "5bdf3135-41a3-438f-d71b-2de1ca5e91ea"
      },
      "id": "FnvD-e_NPaQY",
      "execution_count": 18,
      "outputs": [
        {
          "output_type": "stream",
          "name": "stdout",
          "text": [
            "Value is decreased!!!\n"
          ]
        }
      ]
    }
  ],
  "metadata": {
    "colab": {
      "collapsed_sections": [],
      "name": "Alpaca live stream.ipynb",
      "provenance": []
    },
    "kernelspec": {
      "display_name": "Python 3 (ipykernel)",
      "language": "python",
      "name": "python3"
    },
    "language_info": {
      "codemirror_mode": {
        "name": "ipython",
        "version": 3
      },
      "file_extension": ".py",
      "mimetype": "text/x-python",
      "name": "python",
      "nbconvert_exporter": "python",
      "pygments_lexer": "ipython3",
      "version": "3.9.7"
    }
  },
  "nbformat": 4,
  "nbformat_minor": 5
}