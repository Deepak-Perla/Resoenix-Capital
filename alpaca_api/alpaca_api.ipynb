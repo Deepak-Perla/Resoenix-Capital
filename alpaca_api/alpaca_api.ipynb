{
  "nbformat": 4,
  "nbformat_minor": 0,
  "metadata": {
    "colab": {
      "name": "alpaca-api.ipynb",
      "provenance": [],
      "collapsed_sections": []
    },
    "kernelspec": {
      "name": "python3",
      "display_name": "Python 3"
    },
    "language_info": {
      "name": "python"
    }
  },
  "cells": [
    {
      "cell_type": "code",
      "execution_count": null,
      "metadata": {
        "id": "96ki6EsvAQ28"
      },
      "outputs": [],
      "source": [
        "# !pip install alpaca-trade-api\n",
        "# !pip install mpl_finance"
      ]
    },
    {
      "cell_type": "code",
      "source": [
        "import alpaca_trade_api as alpaca\n",
        "api = alpaca.REST('YOUR_API_KEY_ID', 'YOUR_API_SECRET_KEY', 'https://paper-api.alpaca.markets')"
      ],
      "metadata": {
        "id": "v0npBdArAcK1"
      },
      "execution_count": null,
      "outputs": []
    },
    {
      "cell_type": "code",
      "source": [
        "api.get_account()"
      ],
      "metadata": {
        "id": "gJeHwDzzAcOM"
      },
      "execution_count": null,
      "outputs": []
    },
    {
      "cell_type": "code",
      "source": [
        "api.submit_order('GOOGL', side='buy', qty=1, type='market', time_in_force='gtc')"
      ],
      "metadata": {
        "id": "SzYAaTYSAcSA"
      },
      "execution_count": null,
      "outputs": []
    },
    {
      "cell_type": "code",
      "source": [
        "api.list_positions()"
      ],
      "metadata": {
        "id": "ep25_gK8AcV8"
      },
      "execution_count": null,
      "outputs": []
    },
    {
      "cell_type": "code",
      "source": [
        "api.get_barset('GOOGL', 'day', limit=10).df"
      ],
      "metadata": {
        "id": "tyXjVqrSAcbx"
      },
      "execution_count": null,
      "outputs": []
    },
    {
      "cell_type": "code",
      "source": [
        "from mpl_finance import candlestick_ohlc\n",
        "import matplotlib.pyplot as plt\n",
        "import matplotlib.dates as mdates\n",
        "from pandas.plotting import register_matplotlib_converters\n",
        "register_matplotlib_converters()\n",
        "\n",
        "from matplotlib.dates import MONDAY, DateFormatter, DayLocator, WeekdayLocator\n",
        "\n",
        "df = api.get_barset('AAPL', 'day', limit=253).df['AAPL']\n",
        "quotes = zip(mdates.date2num(df.index.to_pydatetime()),\n",
        "                         df.open, df.high,\n",
        "                         df.low, df.close)\n",
        "fig, ax = plt.subplots(figsize=(20,10))\n",
        "ax.xaxis_date()\n",
        "ax.autoscale_view()\n",
        "alldays = DayLocator() \n",
        "ax.xaxis.set_minor_locator(alldays)\n",
        "candlestick_ohlc(ax, quotes, width=0.5, colorup='g', colordown='r');"
      ],
      "metadata": {
        "id": "pUyTWbxTAcfy"
      },
      "execution_count": null,
      "outputs": []
    },
    {
      "cell_type": "markdown",
      "source": [
        "Read this: https://docs.google.com/document/d/1WP7Sag0fs-s6Unm7-53oGuPGdWj4YYr8qm5sgTSRKqE/edit?usp=sharing\n"
      ],
      "metadata": {
        "id": "DR9FZGEnBQ8B"
      }
    }
  ]
}