{
  "nbformat": 4,
  "nbformat_minor": 0,
  "metadata": {
    "colab": {
      "name": "alpaca-api-livedata-BTC.ipynb",
      "provenance": []
    },
    "kernelspec": {
      "name": "python3",
      "display_name": "Python 3"
    },
    "language_info": {
      "name": "python"
    }
  },
  "cells": [
    {
      "cell_type": "code",
      "execution_count": null,
      "metadata": {
        "id": "zEE8cKbbYLga"
      },
      "outputs": [],
      "source": [
        "# !pip install config\n",
        "!pip install websocket"
      ]
    },
    {
      "cell_type": "code",
      "source": [
        "import config\n",
        "import websocket, json"
      ],
      "metadata": {
        "id": "6wwIb4u9Yb1_"
      },
      "execution_count": 4,
      "outputs": []
    },
    {
      "cell_type": "code",
      "source": [
        "def on_open(ws):\n",
        "  print(\"opened!!!\")\n",
        "  auth_data={\"action\": \"auth\", \"key\": \"{APCA-API-KEY-ID}\", \"secret_key\": \"{APCA-API-SECRET-KEY}\"}"
      ],
      "metadata": {
        "id": "LNct3j5cYb6P"
      },
      "execution_count": null,
      "outputs": []
    },
    {
      "cell_type": "code",
      "source": [
        "ws.send(json.dumps(auth_data))\n"
      ],
      "metadata": {
        "id": "2zCcMAsrYb-j"
      },
      "execution_count": null,
      "outputs": []
    },
    {
      "cell_type": "code",
      "source": [
        "listen_message = {\"action\":\"subscribe\",\"trades\":[\"BTCUSD\"],\"quotes\":[\"LTCUSD\",\"ETHUSD\"],\"bars\":[\"BCHUSD\"]}\n"
      ],
      "metadata": {
        "id": "X_Lddq-zYciR"
      },
      "execution_count": null,
      "outputs": []
    },
    {
      "cell_type": "code",
      "source": [
        "ws.send(json.dumps(listen_message))\n"
      ],
      "metadata": {
        "id": "zr7-QaSQYcnl"
      },
      "execution_count": null,
      "outputs": []
    },
    {
      "cell_type": "code",
      "source": [
        "def on_message(ws, message):\n",
        "    print(\"Recieved!!!\")\n",
        "    print(message)"
      ],
      "metadata": {
        "id": "Rz1fTX5DZRcH"
      },
      "execution_count": null,
      "outputs": []
    },
    {
      "cell_type": "code",
      "source": [
        "def on_close(ws):\n",
        "    print(\"Closed!!!\")"
      ],
      "metadata": {
        "id": "EkQtQnN6ZRfL"
      },
      "execution_count": null,
      "outputs": []
    },
    {
      "cell_type": "code",
      "source": [
        "socket = \"wss://stream.data.alpaca.markets/v1beta1/crypto\""
      ],
      "metadata": {
        "id": "S_dFmdO9ZRjH"
      },
      "execution_count": null,
      "outputs": []
    },
    {
      "cell_type": "code",
      "source": [
        "ws = websocket.WebSocketApp(socket, on_open=on_open, on_message=on_message, on_close=on_close)\n",
        "ws.run_forever()"
      ],
      "metadata": {
        "id": "NeTpa8t0ZRnH"
      },
      "execution_count": null,
      "outputs": []
    }
  ]
}